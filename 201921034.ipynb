{
 "cells": [
  {
   "cell_type": "code",
   "execution_count": 1,
   "metadata": {},
   "outputs": [],
   "source": [
    "import pandas as pd\n",
    "import matplotlib.pyplot as plt\n",
    "import seaborn as sns\n",
    "import matplotlib.font_manager as fm\n",
    "import numpy as np\n",
    "import random as rd"
   ]
  },
  {
   "cell_type": "code",
   "execution_count": 2,
   "metadata": {},
   "outputs": [
    {
     "data": {
      "text/html": [
       "<div>\n",
       "<style scoped>\n",
       "    .dataframe tbody tr th:only-of-type {\n",
       "        vertical-align: middle;\n",
       "    }\n",
       "\n",
       "    .dataframe tbody tr th {\n",
       "        vertical-align: top;\n",
       "    }\n",
       "\n",
       "    .dataframe thead th {\n",
       "        text-align: right;\n",
       "    }\n",
       "</style>\n",
       "<table border=\"1\" class=\"dataframe\">\n",
       "  <thead>\n",
       "    <tr style=\"text-align: right;\">\n",
       "      <th></th>\n",
       "      <th>공원명</th>\n",
       "      <th>육지면적</th>\n",
       "      <th>탐방객수</th>\n",
       "    </tr>\n",
       "  </thead>\n",
       "  <tbody>\n",
       "    <tr>\n",
       "      <th>0</th>\n",
       "      <td>지리산</td>\n",
       "      <td>483.022</td>\n",
       "      <td>3308833</td>\n",
       "    </tr>\n",
       "    <tr>\n",
       "      <th>1</th>\n",
       "      <td>경주</td>\n",
       "      <td>136.550</td>\n",
       "      <td>2887634</td>\n",
       "    </tr>\n",
       "    <tr>\n",
       "      <th>2</th>\n",
       "      <td>계룡산</td>\n",
       "      <td>65.335</td>\n",
       "      <td>1817602</td>\n",
       "    </tr>\n",
       "    <tr>\n",
       "      <th>3</th>\n",
       "      <td>한려해상</td>\n",
       "      <td>127.188</td>\n",
       "      <td>6439653</td>\n",
       "    </tr>\n",
       "    <tr>\n",
       "      <th>4</th>\n",
       "      <td>설악산</td>\n",
       "      <td>398.237</td>\n",
       "      <td>3241484</td>\n",
       "    </tr>\n",
       "  </tbody>\n",
       "</table>\n",
       "</div>"
      ],
      "text/plain": [
       "    공원명     육지면적     탐방객수\n",
       "0   지리산  483.022  3308833\n",
       "1    경주  136.550  2887634\n",
       "2   계룡산   65.335  1817602\n",
       "3  한려해상  127.188  6439653\n",
       "4   설악산  398.237  3241484"
      ]
     },
     "execution_count": 2,
     "metadata": {},
     "output_type": "execute_result"
    }
   ],
   "source": [
    "# 국립공원 기본통계 (출처: KOSIS 국가통계포털)\n",
    "df = pd.read_csv('NLPRK_STA.csv', encoding='cp949')\n",
    "df.head()"
   ]
  },
  {
   "cell_type": "code",
   "execution_count": 31,
   "metadata": {},
   "outputs": [],
   "source": [
    "sns.set(style='whitegrid', font_scale=1.2) # Seaborn 설정"
   ]
  },
  {
   "cell_type": "code",
   "execution_count": 32,
   "metadata": {},
   "outputs": [],
   "source": [
    "# 국립공원 육지면적, 탐방객수\n",
    "X = df.iloc[:, [1, 2]].values # shape=(22, 2)\n",
    "m=X.shape[0] # 집합 개수 (m=22)\n",
    "n=X.shape[1] # 특징 개수 (n=2)"
   ]
  },
  {
   "cell_type": "code",
   "execution_count": 33,
   "metadata": {},
   "outputs": [
    {
     "data": {
      "image/png": "[encoded data removed]",
      "text/plain": [
       "<Figure size 640x480 with 1 Axes>"
      ]
     },
     "metadata": {},
     "output_type": "display_data"
    }
   ],
   "source": [
    "plt.scatter(X[:,0],X[:,1],c='black',label='국립공원')\n",
    "plt.xlabel('육지면적 (㎢)')\n",
    "plt.ylabel('탐방객수 (명)')\n",
    "plt.legend()\n",
    "plt.title('국립공원')\n",
    "plt.show()"
   ]
  },
  {
   "cell_type": "code",
   "execution_count": 34,
   "metadata": {},
   "outputs": [],
   "source": [
    "K=3 # 클러스터 개수\n",
    "n_iter=100 # 반복 횟수"
   ]
  },
  {
   "cell_type": "code",
   "execution_count": 35,
   "metadata": {},
   "outputs": [
    {
     "data": {
      "text/plain": [
       "array([], shape=(2, 0), dtype=float64)"
      ]
     },
     "execution_count": 35,
     "metadata": {},
     "output_type": "execute_result"
    }
   ],
   "source": [
    "Centroids=np.array([]).reshape(n,0) # 클러스터 중심 초기화\n",
    "Centroids # shape=(2, 0)"
   ]
  },
  {
   "cell_type": "code",
   "execution_count": 36,
   "metadata": {},
   "outputs": [
    {
     "name": "stdout",
     "output_type": "stream",
     "text": [
      "0\n",
      "1\n",
      "2\n"
     ]
    }
   ],
   "source": [
    "for i in range(3):\n",
    "    print(i) # 0 1 2"
   ]
  },
  {
   "cell_type": "code",
   "execution_count": 37,
   "metadata": {},
   "outputs": [
    {
     "data": {
      "text/plain": [
       "2"
      ]
     },
     "execution_count": 37,
     "metadata": {},
     "output_type": "execute_result"
    }
   ],
   "source": [
    "# 두 수 사이의 난수(정수) 생성 예시\n",
    "rd.randint(0,2) # 0과 2 사이 난수(정수) 생성: 0, 1, 2"
   ]
  },
  {
   "cell_type": "code",
   "execution_count": 38,
   "metadata": {},
   "outputs": [
    {
     "data": {
      "text/plain": [
       "array([[4.830220e+02, 3.982370e+02, 7.542500e+01],\n",
       "       [3.308833e+06, 3.241484e+06, 3.143779e+06]])"
      ]
     },
     "execution_count": 38,
     "metadata": {},
     "output_type": "execute_result"
    }
   ],
   "source": [
    "for i in range(K): # 0, 1, 2\n",
    "    rand=rd.randint(0,m-1) # 0과 21 사이 난수 생성\n",
    "    Centroids=np.c_[Centroids,X[rand]] # 클러스터 중심(열) 추가\n",
    "Centroids # K개 클러스터 중심 초기값. shape=(2, 3)"
   ]
  },
  {
   "cell_type": "code",
   "execution_count": 39,
   "metadata": {},
   "outputs": [],
   "source": [
    "Output={} # 출력값 초기화(딕셔너리)"
   ]
  },
  {
   "cell_type": "code",
   "execution_count": 40,
   "metadata": {},
   "outputs": [
    {
     "data": {
      "text/plain": [
       "array([], shape=(22, 0), dtype=float64)"
      ]
     },
     "execution_count": 40,
     "metadata": {},
     "output_type": "execute_result"
    }
   ],
   "source": [
    "# 유클리드 거리 초기화\n",
    "EuclidianDistance=np.array([]).reshape(m,0)\n",
    "EuclidianDistance # shape=(22, 0)"
   ]
  },
  {
   "cell_type": "code",
   "execution_count": 41,
   "metadata": {},
   "outputs": [
    {
     "data": {
      "text/plain": [
       "array([4.830220e+02, 3.308833e+06])"
      ]
     },
     "execution_count": 41,
     "metadata": {},
     "output_type": "execute_result"
    }
   ],
   "source": [
    "Centroids[:,0] # shape=(2,)"
   ]
  },
  {
   "cell_type": "code",
   "execution_count": 42,
   "metadata": {},
   "outputs": [
    {
     "data": {
      "text/plain": [
       "array([0.00000000e+00, 1.77408718e+11, 2.22377007e+12, 9.80203400e+12,\n",
       "       4.53589499e+09, 4.26000936e+12, 5.84196645e+12, 1.85019045e+12,\n",
       "       6.94813767e+12, 3.26715392e+12, 3.64700759e+12, 4.63872536e+12,\n",
       "       5.10244419e+12, 1.74522862e+12, 4.88266377e+12, 6.60729041e+12,\n",
       "       5.26261956e+12, 4.47257786e+12, 2.99201443e+12, 8.40943759e+12,\n",
       "       2.72429891e+10, 6.91040560e+12])"
      ]
     },
     "execution_count": 42,
     "metadata": {},
     "output_type": "execute_result"
    }
   ],
   "source": [
    "# 넘파이 브로드캐스트(broadcast): 형상이 다른 배열끼리도 계산 가능\n",
    "# (22, 2) 행렬 A에서 (2,) 벡터 값을 차감하면, 벡터 값은 (22, 2) 행렬로 확대된 후 연산\n",
    "tempDist = np.sum((X-Centroids[:,0])**2,axis=1)\n",
    "tempDist # shape=(22,)"
   ]
  },
  {
   "cell_type": "code",
   "execution_count": 43,
   "metadata": {},
   "outputs": [
    {
     "data": {
      "text/plain": [
       "array([[0.00000000e+00],\n",
       "       [1.77408718e+11],\n",
       "       [2.22377007e+12],\n",
       "       [9.80203400e+12],\n",
       "       [4.53589499e+09],\n",
       "       [4.26000936e+12],\n",
       "       [5.84196645e+12],\n",
       "       [1.85019045e+12],\n",
       "       [6.94813767e+12],\n",
       "       [3.26715392e+12],\n",
       "       [3.64700759e+12],\n",
       "       [4.63872536e+12],\n",
       "       [5.10244419e+12],\n",
       "       [1.74522862e+12],\n",
       "       [4.88266377e+12],\n",
       "       [6.60729041e+12],\n",
       "       [5.26261956e+12],\n",
       "       [4.47257786e+12],\n",
       "       [2.99201443e+12],\n",
       "       [8.40943759e+12],\n",
       "       [2.72429891e+10],\n",
       "       [6.91040560e+12]])"
      ]
     },
     "execution_count": 43,
     "metadata": {},
     "output_type": "execute_result"
    }
   ],
   "source": [
    "np.c_[EuclidianDistance,tempDist] # (22, 0) 행렬에 (22,) 옆으로 붙이기"
   ]
  },
  {
   "cell_type": "code",
   "execution_count": 44,
   "metadata": {},
   "outputs": [
    {
     "data": {
      "text/plain": [
       "array([[0.00000000e+00, 4.53589499e+09, 2.72429891e+10],\n",
       "       [1.77408718e+11, 1.25209891e+11, 6.56102648e+10],\n",
       "       [2.22377007e+12, 2.02744006e+12, 1.75874544e+12],\n",
       "       [9.80203400e+12, 1.02282850e+13, 1.08627854e+13],\n",
       "       [4.53589499e+09, 0.00000000e+00, 9.54637123e+09],\n",
       "       [4.26000936e+12, 3.98653137e+12, 3.60591620e+12],\n",
       "       [5.84196645e+12, 5.52093507e+12, 5.07133286e+12],\n",
       "       [1.85019045e+12, 1.67150777e+12, 1.42841460e+12],\n",
       "       [6.94813767e+12, 6.59761873e+12, 6.10523809e+12],\n",
       "       [3.26715392e+12, 3.02821950e+12, 2.69771758e+12],\n",
       "       [3.64700759e+12, 3.39430880e+12, 3.04383858e+12],\n",
       "       [4.63872536e+12, 4.35315267e+12, 3.95499133e+12],\n",
       "       [5.10244419e+12, 4.80271622e+12, 4.38401938e+12],\n",
       "       [1.74522862e+12, 1.57181886e+12, 1.33637535e+12],\n",
       "       [4.88266377e+12, 5.18483840e+12, 5.63933782e+12],\n",
       "       [6.60729041e+12, 6.26558976e+12, 5.78600209e+12],\n",
       "       [5.26261956e+12, 4.95815282e+12, 4.53258143e+12],\n",
       "       [4.47257786e+12, 4.19224807e+12, 3.80169280e+12],\n",
       "       [2.99201443e+12, 2.76355720e+12, 2.44825480e+12],\n",
       "       [8.40943759e+12, 8.02336228e+12, 7.47939905e+12],\n",
       "       [2.72429891e+10, 9.54637123e+09, 0.00000000e+00],\n",
       "       [6.91040560e+12, 6.56085203e+12, 6.06987189e+12]])"
      ]
     },
     "execution_count": 44,
     "metadata": {},
     "output_type": "execute_result"
    }
   ],
   "source": [
    "for k in range(K): # 0, 1, 2\n",
    "    tempDist=np.sum((X-Centroids[:,k])**2,axis=1)\n",
    "    EuclidianDistance=np.c_[EuclidianDistance,tempDist]\n",
    "EuclidianDistance # shape=(22, 3)"
   ]
  },
  {
   "cell_type": "code",
   "execution_count": 45,
   "metadata": {},
   "outputs": [
    {
     "data": {
      "text/plain": [
       "array([0, 2, 2, 0, 1, 2, 2, 2, 2, 2, 2, 2, 2, 2, 0, 2, 2, 2, 2, 2, 2, 2])"
      ]
     },
     "execution_count": 45,
     "metadata": {},
     "output_type": "execute_result"
    }
   ],
   "source": [
    "# 유클리드 거리가 최소가 되는 색인\n",
    "np.argmin(EuclidianDistance,axis=1)"
   ]
  },
  {
   "cell_type": "code",
   "execution_count": 46,
   "metadata": {},
   "outputs": [
    {
     "data": {
      "text/plain": [
       "array([1, 3, 3, 1, 2, 3, 3, 3, 3, 3, 3, 3, 3, 3, 1, 3, 3, 3, 3, 3, 3, 3])"
      ]
     },
     "execution_count": 46,
     "metadata": {},
     "output_type": "execute_result"
    }
   ],
   "source": [
    "# K 클러스터 저장\n",
    "C=np.argmin(EuclidianDistance,axis=1)+1\n",
    "C # shape=(22,)"
   ]
  },
  {
   "cell_type": "code",
   "execution_count": 47,
   "metadata": {},
   "outputs": [],
   "source": [
    "Y={} # 출력값 임시 딕셔너리"
   ]
  },
  {
   "cell_type": "code",
   "execution_count": 48,
   "metadata": {},
   "outputs": [
    {
     "data": {
      "text/plain": [
       "{1: array([], shape=(2, 0), dtype=float64),\n",
       " 2: array([], shape=(2, 0), dtype=float64),\n",
       " 3: array([], shape=(2, 0), dtype=float64)}"
      ]
     },
     "execution_count": 48,
     "metadata": {},
     "output_type": "execute_result"
    }
   ],
   "source": [
    "for k in range(K): # 0, 1, 2\n",
    "    Y[k+1]=np.array([]).reshape(2,0) # 특징 개수\n",
    "Y"
   ]
  },
  {
   "cell_type": "code",
   "execution_count": 49,
   "metadata": {},
   "outputs": [
    {
     "data": {
      "text/plain": [
       "array([[4.830220e+02],\n",
       "       [3.308833e+06]])"
      ]
     },
     "execution_count": 49,
     "metadata": {},
     "output_type": "execute_result"
    }
   ],
   "source": [
    "# 출력값 임시 딕셔너리 갱신\n",
    "Y[C[0]]=np.c_[Y[C[0]],X[0]] # C[0] 키 값에 대한 재귀적 갱신\n",
    "Y[C[0]]"
   ]
  },
  {
   "cell_type": "code",
   "execution_count": 50,
   "metadata": {},
   "outputs": [
    {
     "data": {
      "text/plain": [
       "{1: array([[4.830220e+02, 4.830220e+02, 1.271880e+02, 7.692200e+01],\n",
       "        [3.308833e+06, 3.308833e+06, 6.439653e+06, 5.518508e+06]]),\n",
       " 2: array([[3.982370e+02],\n",
       "        [3.241484e+06]]),\n",
       " 3: array([[1.365500e+02, 6.533500e+01, 2.747660e+02, 1.533320e+02,\n",
       "         8.070800e+01, 7.625600e+01, 2.294300e+02, 3.263480e+02,\n",
       "         1.055950e+02, 2.422300e+01, 2.910230e+02, 1.756680e+02,\n",
       "         2.875710e+02, 3.220110e+02, 1.367070e+02, 5.622000e+01,\n",
       "         7.542500e+01, 7.005200e+01],\n",
       "        [2.887634e+06, 1.817602e+06, 1.244854e+06, 8.918170e+05,\n",
       "         1.948616e+06, 6.729010e+05, 1.501306e+06, 1.399119e+06,\n",
       "         1.155063e+06, 1.049974e+06, 1.987762e+06, 7.383680e+05,\n",
       "         1.014793e+06, 1.193986e+06, 1.579089e+06, 4.089300e+05,\n",
       "         3.143779e+06, 6.800680e+05]])}"
      ]
     },
     "execution_count": 50,
     "metadata": {},
     "output_type": "execute_result"
    }
   ],
   "source": [
    "# 출력값 임시 딕셔너리: 키 값에 대한 재귀적 갱신\n",
    "for i in range(m): # m=22\n",
    "    Y[C[i]]=np.c_[Y[C[i]],X[i]]\n",
    "Y"
   ]
  },
  {
   "cell_type": "code",
   "execution_count": 51,
   "metadata": {},
   "outputs": [
    {
     "data": {
      "text/plain": [
       "array([[4.830220e+02, 4.830220e+02, 1.271880e+02, 7.692200e+01],\n",
       "       [3.308833e+06, 3.308833e+06, 6.439653e+06, 5.518508e+06]])"
      ]
     },
     "execution_count": 51,
     "metadata": {},
     "output_type": "execute_result"
    }
   ],
   "source": [
    "Y[1] # shape=(10, 2)"
   ]
  },
  {
   "cell_type": "code",
   "execution_count": 52,
   "metadata": {},
   "outputs": [
    {
     "data": {
      "text/plain": [
       "array([[4.830220e+02, 3.308833e+06],\n",
       "       [4.830220e+02, 3.308833e+06],\n",
       "       [1.271880e+02, 6.439653e+06],\n",
       "       [7.692200e+01, 5.518508e+06]])"
      ]
     },
     "execution_count": 52,
     "metadata": {},
     "output_type": "execute_result"
    }
   ],
   "source": [
    "Y[1].T # 전치행렬: shape=(2, 10)"
   ]
  },
  {
   "cell_type": "code",
   "execution_count": 53,
   "metadata": {},
   "outputs": [
    {
     "data": {
      "text/plain": [
       "{1: array([[4.830220e+02, 3.308833e+06],\n",
       "        [4.830220e+02, 3.308833e+06],\n",
       "        [1.271880e+02, 6.439653e+06],\n",
       "        [7.692200e+01, 5.518508e+06]]),\n",
       " 2: array([[3.982370e+02, 3.241484e+06]]),\n",
       " 3: array([[1.365500e+02, 2.887634e+06],\n",
       "        [6.533500e+01, 1.817602e+06],\n",
       "        [2.747660e+02, 1.244854e+06],\n",
       "        [1.533320e+02, 8.918170e+05],\n",
       "        [8.070800e+01, 1.948616e+06],\n",
       "        [7.625600e+01, 6.729010e+05],\n",
       "        [2.294300e+02, 1.501306e+06],\n",
       "        [3.263480e+02, 1.399119e+06],\n",
       "        [1.055950e+02, 1.155063e+06],\n",
       "        [2.422300e+01, 1.049974e+06],\n",
       "        [2.910230e+02, 1.987762e+06],\n",
       "        [1.756680e+02, 7.383680e+05],\n",
       "        [2.875710e+02, 1.014793e+06],\n",
       "        [3.220110e+02, 1.193986e+06],\n",
       "        [1.367070e+02, 1.579089e+06],\n",
       "        [5.622000e+01, 4.089300e+05],\n",
       "        [7.542500e+01, 3.143779e+06],\n",
       "        [7.005200e+01, 6.800680e+05]])}"
      ]
     },
     "execution_count": 53,
     "metadata": {},
     "output_type": "execute_result"
    }
   ],
   "source": [
    "# 출력값 임시 디렉터리: 전치행렬\n",
    "for k in range(K): # 0, 1, 2\n",
    "    Y[k+1]=Y[k+1].T\n",
    "Y"
   ]
  },
  {
   "cell_type": "code",
   "execution_count": 54,
   "metadata": {},
   "outputs": [
    {
     "data": {
      "text/plain": [
       "array([[2.92538500e+02, 3.98237000e+02, 1.60401111e+02],\n",
       "       [4.64395675e+06, 3.24148400e+06, 1.40642561e+06]])"
      ]
     },
     "execution_count": 54,
     "metadata": {},
     "output_type": "execute_result"
    }
   ],
   "source": [
    "for k in range(K): # 0, 1, 2\n",
    "     Centroids[:,k]=np.mean(Y[k+1],axis=0)\n",
    "Centroids"
   ]
  },
  {
   "cell_type": "code",
   "execution_count": 55,
   "metadata": {},
   "outputs": [],
   "source": [
    "for i in range(n_iter): # n_iter 반복 횟수\n",
    "    # 유클리드 거리가 최소가 되는 K 클러스터 할당\n",
    "    EuclidianDistance=np.array([]).reshape(m,0)\n",
    "    for k in range(K):\n",
    "        tempDist=np.sum((X-Centroids[:,k])**2,axis=1) # shape=(22,)\n",
    "        EuclidianDistance=np.c_[EuclidianDistance,tempDist] # shape=(22, 3)\n",
    "    C=np.argmin(EuclidianDistance,axis=1)+1 # shape=(22,)\n",
    "    # K 클러스터 갱신\n",
    "    Y={}\n",
    "    for k in range(K):\n",
    "        Y[k+1]=np.array([]).reshape(2,0) # Y 딕셔너리 키, 값 할당\n",
    "    for i in range(m):\n",
    "        Y[C[i]]=np.c_[Y[C[i]],X[i]] # Y 딕셔너리 키(K클러스터), 값(육지면적, 탐방객수) 할당\n",
    "    for k in range(K):\n",
    "        Y[k+1]=Y[k+1].T # 전치행렬\n",
    "    for k in range(K):\n",
    "        Centroids[:,k]=np.mean(Y[k+1],axis=0) # K 클러스터 중심 갱신\n",
    "    Output=Y"
   ]
  },
  {
   "cell_type": "code",
   "execution_count": 56,
   "metadata": {},
   "outputs": [
    {
     "data": {
      "image/png": "[encoded data removed]",
      "text/plain": [
       "<Figure size 640x480 with 1 Axes>"
      ]
     },
     "metadata": {},
     "output_type": "display_data"
    }
   ],
   "source": [
    "# K-평균 클러스터링 결과 가시화\n",
    "color=['red','blue','green']\n",
    "labels=['cluster1','cluster2','cluster3']\n",
    "for k in range(K):\n",
    "    plt.scatter(Output[k+1][:,0],Output[k+1][:,1],c=color[k],label=labels[k])\n",
    "plt.scatter(Centroids[0,:],Centroids[1,:],s=300,c='yellow',label='Centroids')\n",
    "plt.xlabel('육지면적 (㎢)')\n",
    "plt.ylabel('탐방객수 (명)')\n",
    "plt.legend()\n",
    "plt.show()\n"
   ]
  },
  {
   "cell_type": "code",
   "execution_count": null,
   "metadata": {},
   "outputs": [],
   "source": []
  }
 ],
 "metadata": {
  "kernelspec": {
   "display_name": "Python 3",
   "language": "python",
   "name": "python3"
  },
  "language_info": {
   "codemirror_mode": {
    "name": "ipython",
    "version": 3
   },
   "file_extension": ".py",
   "mimetype": "text/x-python",
   "name": "python",
   "nbconvert_exporter": "python",
   "pygments_lexer": "ipython3",
   "version": "3.10.13"
  }
 },
 "nbformat": 4,
 "nbformat_minor": 2
}
